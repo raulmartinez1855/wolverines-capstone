{
 "cells": [
  {
   "cell_type": "markdown",
   "metadata": {},
   "source": [
    "This notebook was used to explore some of the features and base performance of the original full data set"
   ]
  },
  {
   "cell_type": "code",
   "execution_count": 27,
   "metadata": {},
   "outputs": [],
   "source": [
    "#imports\n",
    "from sklearn.linear_model import LogisticRegression\n",
    "from sklearn.ensemble import RandomForestClassifier\n",
    "from sklearn.pipeline import make_pipeline\n",
    "from sklearn.preprocessing import StandardScaler\n",
    "from sklearn.svm import SVC\n",
    "from sklearn.model_selection import KFold\n",
    "from sklearn.model_selection import cross_val_score\n",
    "from sklearn.utils._testing import ignore_warnings\n",
    "from sklearn.exceptions import ConvergenceWarning\n",
    "from sklearn.model_selection import train_test_split\n",
    "from sklearn.decomposition import PCA\n",
    "from sklearn.metrics import confusion_matrix\n",
    "import pandas as pd\n",
    "import numpy as np\n",
    "import matplotlib.pyplot as plot"
   ]
  },
  {
   "cell_type": "markdown",
   "metadata": {},
   "source": [
    "It seems that after fixing a few of the intitial issues, Random Forrest and SVM are no longer making accurate predictions at all. Using the full data set may not\n",
    "be a good idea."
   ]
  },
  {
   "cell_type": "code",
   "execution_count": 47,
   "metadata": {},
   "outputs": [],
   "source": [
    "data = pd.read_csv(\"Data/Final Dataset.csv\")"
   ]
  },
  {
   "cell_type": "code",
   "execution_count": 29,
   "metadata": {},
   "outputs": [
    {
     "data": {
      "text/html": [
       "<div>\n",
       "<style scoped>\n",
       "    .dataframe tbody tr th:only-of-type {\n",
       "        vertical-align: middle;\n",
       "    }\n",
       "\n",
       "    .dataframe tbody tr th {\n",
       "        vertical-align: top;\n",
       "    }\n",
       "\n",
       "    .dataframe thead th {\n",
       "        text-align: right;\n",
       "    }\n",
       "</style>\n",
       "<table border=\"1\" class=\"dataframe\">\n",
       "  <thead>\n",
       "    <tr style=\"text-align: right;\">\n",
       "      <th></th>\n",
       "      <th>Season</th>\n",
       "      <th>PlayerId</th>\n",
       "      <th>Usage Overall</th>\n",
       "      <th>Usage Pass</th>\n",
       "      <th>Usage Rush</th>\n",
       "      <th>Usage FirstDown</th>\n",
       "      <th>Usage SecondDown</th>\n",
       "      <th>Usage ThirdDown</th>\n",
       "      <th>Usage StandardDowns</th>\n",
       "      <th>Usage PassingDowns</th>\n",
       "      <th>...</th>\n",
       "      <th>Team sacks</th>\n",
       "      <th>Team tacklesForLoss</th>\n",
       "      <th>Team thirdDownConversions</th>\n",
       "      <th>Team thirdDowns</th>\n",
       "      <th>Team totalYards</th>\n",
       "      <th>Team turnovers</th>\n",
       "      <th>Transfer_Portal</th>\n",
       "      <th>PositionId</th>\n",
       "      <th>TeamId</th>\n",
       "      <th>ConferenceId</th>\n",
       "    </tr>\n",
       "  </thead>\n",
       "  <tbody>\n",
       "    <tr>\n",
       "      <th>0</th>\n",
       "      <td>2019</td>\n",
       "      <td>4240710</td>\n",
       "      <td>0.1587</td>\n",
       "      <td>0.0525</td>\n",
       "      <td>0.3056</td>\n",
       "      <td>0.1700</td>\n",
       "      <td>0.202</td>\n",
       "      <td>0.101</td>\n",
       "      <td>0.164</td>\n",
       "      <td>0.142</td>\n",
       "      <td>...</td>\n",
       "      <td>60</td>\n",
       "      <td>124</td>\n",
       "      <td>84</td>\n",
       "      <td>211</td>\n",
       "      <td>4946</td>\n",
       "      <td>22</td>\n",
       "      <td>0</td>\n",
       "      <td>0</td>\n",
       "      <td>0</td>\n",
       "      <td>0</td>\n",
       "    </tr>\n",
       "    <tr>\n",
       "      <th>1</th>\n",
       "      <td>2019</td>\n",
       "      <td>4036066</td>\n",
       "      <td>0.0228</td>\n",
       "      <td>0.0394</td>\n",
       "      <td>0.0024</td>\n",
       "      <td>0.0246</td>\n",
       "      <td>0.006</td>\n",
       "      <td>0.038</td>\n",
       "      <td>0.018</td>\n",
       "      <td>0.024</td>\n",
       "      <td>...</td>\n",
       "      <td>60</td>\n",
       "      <td>124</td>\n",
       "      <td>84</td>\n",
       "      <td>211</td>\n",
       "      <td>4946</td>\n",
       "      <td>22</td>\n",
       "      <td>0</td>\n",
       "      <td>1</td>\n",
       "      <td>0</td>\n",
       "      <td>0</td>\n",
       "    </tr>\n",
       "    <tr>\n",
       "      <th>2</th>\n",
       "      <td>2019</td>\n",
       "      <td>4240724</td>\n",
       "      <td>0.0083</td>\n",
       "      <td>0.0150</td>\n",
       "      <td>0.0000</td>\n",
       "      <td>0.0025</td>\n",
       "      <td>0.016</td>\n",
       "      <td>0.010</td>\n",
       "      <td>0.004</td>\n",
       "      <td>0.018</td>\n",
       "      <td>...</td>\n",
       "      <td>60</td>\n",
       "      <td>124</td>\n",
       "      <td>84</td>\n",
       "      <td>211</td>\n",
       "      <td>4946</td>\n",
       "      <td>22</td>\n",
       "      <td>0</td>\n",
       "      <td>1</td>\n",
       "      <td>0</td>\n",
       "      <td>0</td>\n",
       "    </tr>\n",
       "    <tr>\n",
       "      <th>3</th>\n",
       "      <td>2019</td>\n",
       "      <td>4430681</td>\n",
       "      <td>0.0207</td>\n",
       "      <td>0.0356</td>\n",
       "      <td>0.0024</td>\n",
       "      <td>0.0320</td>\n",
       "      <td>0.006</td>\n",
       "      <td>0.024</td>\n",
       "      <td>0.000</td>\n",
       "      <td>0.021</td>\n",
       "      <td>...</td>\n",
       "      <td>60</td>\n",
       "      <td>124</td>\n",
       "      <td>84</td>\n",
       "      <td>211</td>\n",
       "      <td>4946</td>\n",
       "      <td>22</td>\n",
       "      <td>0</td>\n",
       "      <td>1</td>\n",
       "      <td>0</td>\n",
       "      <td>0</td>\n",
       "    </tr>\n",
       "    <tr>\n",
       "      <th>4</th>\n",
       "      <td>2019</td>\n",
       "      <td>4373334</td>\n",
       "      <td>0.0041</td>\n",
       "      <td>0.0075</td>\n",
       "      <td>0.0000</td>\n",
       "      <td>0.0049</td>\n",
       "      <td>0.006</td>\n",
       "      <td>0.000</td>\n",
       "      <td>0.000</td>\n",
       "      <td>0.006</td>\n",
       "      <td>...</td>\n",
       "      <td>60</td>\n",
       "      <td>124</td>\n",
       "      <td>84</td>\n",
       "      <td>211</td>\n",
       "      <td>4946</td>\n",
       "      <td>22</td>\n",
       "      <td>0</td>\n",
       "      <td>1</td>\n",
       "      <td>0</td>\n",
       "      <td>0</td>\n",
       "    </tr>\n",
       "  </tbody>\n",
       "</table>\n",
       "<p>5 rows × 93 columns</p>\n",
       "</div>"
      ],
      "text/plain": [
       "   Season  PlayerId  Usage Overall  Usage Pass  Usage Rush  Usage FirstDown  \\\n",
       "0    2019   4240710         0.1587      0.0525      0.3056           0.1700   \n",
       "1    2019   4036066         0.0228      0.0394      0.0024           0.0246   \n",
       "2    2019   4240724         0.0083      0.0150      0.0000           0.0025   \n",
       "3    2019   4430681         0.0207      0.0356      0.0024           0.0320   \n",
       "4    2019   4373334         0.0041      0.0075      0.0000           0.0049   \n",
       "\n",
       "   Usage SecondDown  Usage ThirdDown  Usage StandardDowns  Usage PassingDowns  \\\n",
       "0             0.202            0.101                0.164               0.142   \n",
       "1             0.006            0.038                0.018               0.024   \n",
       "2             0.016            0.010                0.004               0.018   \n",
       "3             0.006            0.024                0.000               0.021   \n",
       "4             0.006            0.000                0.000               0.006   \n",
       "\n",
       "   ...  Team sacks  Team tacklesForLoss  Team thirdDownConversions  \\\n",
       "0  ...          60                  124                         84   \n",
       "1  ...          60                  124                         84   \n",
       "2  ...          60                  124                         84   \n",
       "3  ...          60                  124                         84   \n",
       "4  ...          60                  124                         84   \n",
       "\n",
       "   Team thirdDowns  Team totalYards  Team turnovers  Transfer_Portal  \\\n",
       "0              211             4946              22                0   \n",
       "1              211             4946              22                0   \n",
       "2              211             4946              22                0   \n",
       "3              211             4946              22                0   \n",
       "4              211             4946              22                0   \n",
       "\n",
       "   PositionId  TeamId  ConferenceId  \n",
       "0           0       0             0  \n",
       "1           1       0             0  \n",
       "2           1       0             0  \n",
       "3           1       0             0  \n",
       "4           1       0             0  \n",
       "\n",
       "[5 rows x 93 columns]"
      ]
     },
     "execution_count": 29,
     "metadata": {},
     "output_type": "execute_result"
    }
   ],
   "source": [
    "df = data.copy().drop(columns=['Player','Team','Conference','Position','Division','Stars'])\n",
    "df['Transfer_Portal'] = np.where(df['Transfer_Portal'].values == 'Yes', 1, 0)\n",
    "df = df.fillna(0)\n",
    "df.head()"
   ]
  },
  {
   "cell_type": "code",
   "execution_count": 41,
   "metadata": {},
   "outputs": [],
   "source": [
    "k_folds = KFold(n_splits = 5)\n",
    "X = df.copy().drop(columns=['Transfer_Portal', 'PlayerId'])\n",
    "y = df['Transfer_Portal']\n",
    "\n",
    "@ignore_warnings(category=ConvergenceWarning)\n",
    "def classifiers():\n",
    "    logistic_clf = LogisticRegression(max_iter=10000, class_weight='balanced')\n",
    "    forest_clf = RandomForestClassifier(random_state=42)\n",
    "\n",
    "    logistic_f1 = cross_val_score(logistic_clf, X, y, cv=k_folds, scoring='f1')\n",
    "    forest_f1 = cross_val_score(forest_clf, X, y, cv=k_folds, scoring='f1')\n",
    "\n",
    "    logistic_pre = cross_val_score(logistic_clf, X, y, cv=k_folds, scoring='precision')\n",
    "    forest_pre = cross_val_score(forest_clf, X, y, cv=k_folds, scoring='precision')\n",
    "\n",
    "    logistic_re = cross_val_score(logistic_clf, X, y, cv=k_folds, scoring='recall')\n",
    "    forest_re = cross_val_score(forest_clf, X, y, cv=k_folds, scoring='recall')\n",
    "\n",
    "    print('F1 Scores')\n",
    "    print('Random Forest',forest_f1.mean())\n",
    "    print('Logistic Regression', logistic_f1.mean())\n",
    "    print(' ')\n",
    "    print('Precision Scores')\n",
    "    print('Random Forest',forest_pre.mean())\n",
    "    print('Logistic Regression', logistic_pre.mean())\n",
    "    print(' ')\n",
    "    print('Recall Scores')\n",
    "    print('Random Forest',forest_re.mean())\n",
    "    print('Logistic Regression', logistic_re.mean())\n",
    "\n",
    "classifiers()"
   ]
  },
  {
   "cell_type": "code",
   "execution_count": 42,
   "metadata": {},
   "outputs": [],
   "source": [
    "X_train, X_test, y_train, y_test = train_test_split(X, y, test_size=0.33, random_state=42)\n",
    "\n",
    "clf_l = LogisticRegression(max_iter=10000, class_weight='balanced').fit(X_train, y_train)\n",
    "clf_r = RandomForestClassifier(random_state=42).fit(X_train, y_train)\n",
    "clf_s = make_pipeline(StandardScaler(), SVC(gamma='auto')).fit(X_train, y_train)"
   ]
  },
  {
   "cell_type": "code",
   "execution_count": 31,
   "metadata": {},
   "outputs": [
    {
     "name": "stdout",
     "output_type": "stream",
     "text": [
      "3119 1946 152 328\n",
      "precision: 0.1442392260334213\n",
      "recall: 0.6833333333333333\n"
     ]
    }
   ],
   "source": [
    "#Logistic CM\n",
    "y_pred = clf_l.predict(X_test)\n",
    "tn, fp, fn, tp = confusion_matrix(y_test, y_pred).ravel()\n",
    "print(tn, fp, fn, tp)\n",
    "print(f'precision: {(tp/(tp+fp))}')\n",
    "print(f'recall: {(tp/(tp+fn))}')"
   ]
  },
  {
   "cell_type": "code",
   "execution_count": 32,
   "metadata": {},
   "outputs": [
    {
     "name": "stdout",
     "output_type": "stream",
     "text": [
      "5026 39 468 12\n",
      "precision: 0.23529411764705882\n",
      "recall: 0.025\n"
     ]
    }
   ],
   "source": [
    "#RF CM\n",
    "y_pred = clf_r.predict(X_test)\n",
    "tn, fp, fn, tp = confusion_matrix(y_test, y_pred).ravel()\n",
    "print(tn, fp, fn, tp)\n",
    "print(f'precision: {(tp/(tp+fp))}')\n",
    "print(f'recall: {(tp/(tp+fn))}')"
   ]
  },
  {
   "cell_type": "code",
   "execution_count": 35,
   "metadata": {},
   "outputs": [
    {
     "name": "stdout",
     "output_type": "stream",
     "text": [
      "[[0.94 0.06]]\n",
      "[[0.99 0.01]]\n"
     ]
    }
   ],
   "source": [
    "player_pos = pd.DataFrame(df.iloc[2]).T\n",
    "player_neg = pd.DataFrame(df.iloc[4584]).T\n",
    "#Probability of a player that did transfer\n",
    "print(clf_r.predict_proba(player_pos.drop(columns=['Transfer_Portal','PlayerId'])))\n",
    "\n",
    "#Probability of a player that did not\n",
    "print(clf_r.predict_proba(player_neg.drop(columns=['Transfer_Portal','PlayerId'])))"
   ]
  },
  {
   "cell_type": "code",
   "execution_count": 37,
   "metadata": {},
   "outputs": [
    {
     "name": "stdout",
     "output_type": "stream",
     "text": [
      "5065 0 480 0\n"
     ]
    }
   ],
   "source": [
    "#SVM CM\n",
    "y_pred = clf_s.predict(X_test)\n",
    "tn, fp, fn, tp = confusion_matrix(y_test, y_pred).ravel()\n",
    "print(tn, fp, fn, tp)"
   ]
  },
  {
   "cell_type": "code",
   "execution_count": 38,
   "metadata": {},
   "outputs": [
    {
     "name": "stdout",
     "output_type": "stream",
     "text": [
      "0.9666169977738954\n"
     ]
    }
   ],
   "source": [
    "#PCA\n",
    "from sklearn import preprocessing\n",
    "data_scaled = pd.DataFrame(preprocessing.scale(X),columns = X.columns) \n",
    "pca = PCA(n_components=40)\n",
    "pca.fit(data_scaled)\n",
    "# print(pca.explained_variance_ratio_)\n",
    "# print(' ')\n",
    "print(sum(pca.explained_variance_ratio_))"
   ]
  },
  {
   "cell_type": "code",
   "execution_count": 39,
   "metadata": {},
   "outputs": [
    {
     "data": {
      "image/png": "[encoded data removed]",
      "text/plain": [
       "<Figure size 640x480 with 1 Axes>"
      ]
     },
     "metadata": {},
     "output_type": "display_data"
    }
   ],
   "source": [
    "plot.plot(pca.explained_variance_ratio_)\n",
    "plot.ylabel('Explained Variance')\n",
    "plot.xlabel('Components')\n",
    "plot.show()"
   ]
  },
  {
   "cell_type": "markdown",
   "metadata": {},
   "source": [
    "LR - needs more looking into, might work using PCA to help with efficiency, overall horrible out the box\n",
    "\n",
    "RF - Great performance out the box, doesn't need tuning and will most likely be efficient enough to not need PCA on full data set. \n",
    "Performs better than SVM, but can't use SVM due to not being probablistic. \n",
    "\n",
    "Because RF is pretty accurate without tuning on full dataset, we need to compare with other forms of data to see if there's a better probability return.\n",
    "\n",
    "RF will probably be used to initially explore conference/team probability.\n"
   ]
  }
 ],
 "metadata": {
  "kernelspec": {
   "display_name": "Python 3",
   "language": "python",
   "name": "python3"
  },
  "language_info": {
   "codemirror_mode": {
    "name": "ipython",
    "version": 3
   },
   "file_extension": ".py",
   "mimetype": "text/x-python",
   "name": "python",
   "nbconvert_exporter": "python",
   "pygments_lexer": "ipython3",
   "version": "3.12.2"
  }
 },
 "nbformat": 4,
 "nbformat_minor": 2
}
